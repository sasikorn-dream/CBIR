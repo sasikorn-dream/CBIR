{
  "nbformat": 4,
  "nbformat_minor": 0,
  "metadata": {
    "colab": {
      "name": "MNIST Data Basic Approach.ipynb",
      "provenance": [],
      "include_colab_link": true
    },
    "kernelspec": {
      "name": "python3",
      "display_name": "Python 3"
    }
  },
  "cells": [
    {
      "cell_type": "markdown",
      "metadata": {
        "id": "view-in-github",
        "colab_type": "text"
      },
      "source": [
        "<a href=\"https://colab.research.google.com/github/sasikorn-dream/CBIR/blob/master/MNIST_Data_Basic_Approach.ipynb\" target=\"_parent\"><img src=\"https://colab.research.google.com/assets/colab-badge.svg\" alt=\"Open In Colab\"/></a>"
      ]
    },
    {
      "cell_type": "markdown",
      "metadata": {
        "id": "T3ahqbK6Dlb5"
      },
      "source": [
        "**MNIST Basic Approach Softmax**"
      ]
    },
    {
      "cell_type": "code",
      "metadata": {
        "id": "q7u7Htjl1ymm"
      },
      "source": [
        "import tensorflow as tf"
      ],
      "execution_count": 1,
      "outputs": []
    },
    {
      "cell_type": "code",
      "metadata": {
        "id": "ta0Ab0mdDif7"
      },
      "source": [
        "from tensorflow.examples.tutorials.mnist import input_data\n",
        "old_v = tf.logging.get_verbosity()                          #อยากรู้ทำไมต้องใส่ก็ลอง comment ดูครับ\n",
        "tf.logging.set_verbosity(tf.logging.ERROR)                  #อยากรู้ทำไมต้องใส่ก็ลอง comment ดูครับ             "
      ],
      "execution_count": null,
      "outputs": []
    },
    {
      "cell_type": "code",
      "metadata": {
        "id": "ruRjsQ7QD2Ww",
        "outputId": "6ff4aa2b-2999-45c3-99f2-dec93fa91a51",
        "colab": {
          "base_uri": "https://localhost:8080/",
          "height": 88
        }
      },
      "source": [
        "mnist = input_data.read_data_sets(\"MNIST_data/\",one_hot=True)\n"
      ],
      "execution_count": null,
      "outputs": [
        {
          "output_type": "stream",
          "text": [
            "Extracting MNIST_data/train-images-idx3-ubyte.gz\n",
            "Extracting MNIST_data/train-labels-idx1-ubyte.gz\n",
            "Extracting MNIST_data/t10k-images-idx3-ubyte.gz\n",
            "Extracting MNIST_data/t10k-labels-idx1-ubyte.gz\n"
          ],
          "name": "stdout"
        }
      ]
    },
    {
      "cell_type": "code",
      "metadata": {
        "id": "ZNc_Ts5mD9zL",
        "outputId": "96bb2838-f5b6-402e-d948-cbfd03c43962",
        "colab": {
          "base_uri": "https://localhost:8080/",
          "height": 34
        }
      },
      "source": [
        "type(mnist) #แอบดู Type"
      ],
      "execution_count": null,
      "outputs": [
        {
          "output_type": "execute_result",
          "data": {
            "text/plain": [
              "tensorflow.contrib.learn.python.learn.datasets.base.Datasets"
            ]
          },
          "metadata": {
            "tags": []
          },
          "execution_count": 6
        }
      ]
    },
    {
      "cell_type": "code",
      "metadata": {
        "id": "7cBzFwTyFgy2",
        "outputId": "9814af22-a64a-4f53-d983-a23410a9ef3d",
        "colab": {
          "base_uri": "https://localhost:8080/",
          "height": 141
        }
      },
      "source": [
        "mnist.train.images"
      ],
      "execution_count": null,
      "outputs": [
        {
          "output_type": "execute_result",
          "data": {
            "text/plain": [
              "array([[0., 0., 0., ..., 0., 0., 0.],\n",
              "       [0., 0., 0., ..., 0., 0., 0.],\n",
              "       [0., 0., 0., ..., 0., 0., 0.],\n",
              "       ...,\n",
              "       [0., 0., 0., ..., 0., 0., 0.],\n",
              "       [0., 0., 0., ..., 0., 0., 0.],\n",
              "       [0., 0., 0., ..., 0., 0., 0.]], dtype=float32)"
            ]
          },
          "metadata": {
            "tags": []
          },
          "execution_count": 7
        }
      ]
    },
    {
      "cell_type": "markdown",
      "metadata": {
        "id": "3M8489DUKzfw"
      },
      "source": [
        "จำนวนรูป train ทั้งหมด 55000 รูป"
      ]
    },
    {
      "cell_type": "code",
      "metadata": {
        "id": "QZNUhLidFpkH",
        "outputId": "d983b59d-4b53-42fc-c825-bae0f5a9b406",
        "colab": {
          "base_uri": "https://localhost:8080/",
          "height": 34
        }
      },
      "source": [
        "mnist.train.num_examples"
      ],
      "execution_count": null,
      "outputs": [
        {
          "output_type": "execute_result",
          "data": {
            "text/plain": [
              "55000"
            ]
          },
          "metadata": {
            "tags": []
          },
          "execution_count": 8
        }
      ]
    },
    {
      "cell_type": "markdown",
      "metadata": {
        "id": "K0WJ7wIEK-ia"
      },
      "source": [
        "จำนวนรูป test 10000 รูป"
      ]
    },
    {
      "cell_type": "code",
      "metadata": {
        "id": "5DQ42Z9EF0k8",
        "outputId": "cbc85f3c-4818-4f5b-d9b8-b55b7d7e9fb7",
        "colab": {
          "base_uri": "https://localhost:8080/",
          "height": 34
        }
      },
      "source": [
        "mnist.test.num_examples"
      ],
      "execution_count": null,
      "outputs": [
        {
          "output_type": "execute_result",
          "data": {
            "text/plain": [
              "10000"
            ]
          },
          "metadata": {
            "tags": []
          },
          "execution_count": 9
        }
      ]
    },
    {
      "cell_type": "code",
      "metadata": {
        "id": "Q9ayBlI9F26K"
      },
      "source": [
        "import matplotlib.pyplot as plt\n",
        "%matplotlib inline"
      ],
      "execution_count": null,
      "outputs": []
    },
    {
      "cell_type": "markdown",
      "metadata": {
        "id": "ioZLPH-tJA6r"
      },
      "source": [
        "ลองหยิบมาดูกันหน่อยหน้าตาจริงๆเป็นไง ถ้าจำกันได้ 1 รูปจะถูกเก็บไว้ใน array(784,1)"
      ]
    },
    {
      "cell_type": "code",
      "metadata": {
        "id": "QvjKJTghJe2I",
        "outputId": "c38c6e57-b1e7-4501-912c-b04c62e214bd",
        "colab": {
          "base_uri": "https://localhost:8080/",
          "height": 34
        }
      },
      "source": [
        "mnist.train.images[1].shape"
      ],
      "execution_count": null,
      "outputs": [
        {
          "output_type": "execute_result",
          "data": {
            "text/plain": [
              "(784,)"
            ]
          },
          "metadata": {
            "tags": []
          },
          "execution_count": 15
        }
      ]
    },
    {
      "cell_type": "markdown",
      "metadata": {
        "id": "JqvUzO2XJuWf"
      },
      "source": [
        "ดังนั้นเราก็แปลงกลับมาเป็น 28x28 ซะก่อน ถึงจะดูได้ด้วย plt.imshow"
      ]
    },
    {
      "cell_type": "code",
      "metadata": {
        "id": "zDQIgKc5GU-E",
        "outputId": "f39f898a-233f-4c9d-bee7-41a9fd1934df",
        "colab": {
          "base_uri": "https://localhost:8080/",
          "height": 282
        }
      },
      "source": [
        "image = mnist.train.images[1].reshape(28,28)\n",
        "plt.imshow(image,cmap='gist_gray')"
      ],
      "execution_count": null,
      "outputs": [
        {
          "output_type": "execute_result",
          "data": {
            "text/plain": [
              "<matplotlib.image.AxesImage at 0x7ff1dbba6978>"
            ]
          },
          "metadata": {
            "tags": []
          },
          "execution_count": 23
        },
        {
          "output_type": "display_data",
          "data": {
            "image/png": "[encoded data removed]",
            "text/plain": [
              "<matplotlib.figure.Figure at 0x7ff1dbbded68>"
            ]
          },
          "metadata": {
            "tags": []
          }
        }
      ]
    },
    {
      "cell_type": "code",
      "metadata": {
        "id": "Me68EzEqKKig",
        "outputId": "601c68a6-2daf-443c-aa46-7ca1a67e6bed",
        "colab": {
          "base_uri": "https://localhost:8080/",
          "height": 34
        }
      },
      "source": [
        "image.min()"
      ],
      "execution_count": null,
      "outputs": [
        {
          "output_type": "execute_result",
          "data": {
            "text/plain": [
              "0.0"
            ]
          },
          "metadata": {
            "tags": []
          },
          "execution_count": 24
        }
      ]
    },
    {
      "cell_type": "code",
      "metadata": {
        "id": "Ysq1WDXhNtz4",
        "outputId": "bf3d1426-f649-4f47-ff9c-582f55cc081f",
        "colab": {
          "base_uri": "https://localhost:8080/",
          "height": 34
        }
      },
      "source": [
        "image.max()"
      ],
      "execution_count": null,
      "outputs": [
        {
          "output_type": "execute_result",
          "data": {
            "text/plain": [
              "1.0"
            ]
          },
          "metadata": {
            "tags": []
          },
          "execution_count": 25
        }
      ]
    },
    {
      "cell_type": "markdown",
      "metadata": {
        "id": "Mb5Hp024Nw-a"
      },
      "source": [
        "สบายใจได้ normalize มาแล้ว min = 0 , max = 1"
      ]
    },
    {
      "cell_type": "code",
      "metadata": {
        "id": "BkMs879tNu-_"
      },
      "source": [
        "# PLACEHOLDERS\n",
        "x = tf.placeholder(tf.float32,shape=[None,784])"
      ],
      "execution_count": null,
      "outputs": []
    },
    {
      "cell_type": "code",
      "metadata": {
        "id": "MlXCPN4qPCQd"
      },
      "source": [
        "# VARIABLES\n",
        "W = tf.Variable(tf.zeros([784,10])) # weight ด้วย 0 ขนาดเท่ากับชุดข้อมูลของตัวเลข 1  ตัว เพราะมันง่ายดีไม่ต้องคิดมาก\n",
        "b = tf.Variable(tf.zeros([10]))      # bias จัด 0 เท่าจำนวน label ไป\n"
      ],
      "execution_count": null,
      "outputs": []
    },
    {
      "cell_type": "code",
      "metadata": {
        "id": "KEsjrMAhPF9G"
      },
      "source": [
        "# CREATE GRAPH OPERATIONS\n",
        "y = tf.matmul(x,W) + b"
      ],
      "execution_count": null,
      "outputs": []
    },
    {
      "cell_type": "code",
      "metadata": {
        "id": "VQMpzX90PJ3o"
      },
      "source": [
        "# LOSS FUNCTION\n",
        "y_true = tf.placeholder(tf.float32,[None,10])"
      ],
      "execution_count": null,
      "outputs": []
    },
    {
      "cell_type": "markdown",
      "metadata": {
        "id": "0uJ_kyjBS8oI"
      },
      "source": [
        "จับ y_true มาเทียบ lost กับ y ที่ predict ได้โดยใช้ softmax"
      ]
    },
    {
      "cell_type": "code",
      "metadata": {
        "id": "WFaieVA_ScW_"
      },
      "source": [
        "cross_entropy = tf.reduce_mean(tf.nn.softmax_cross_entropy_with_logits(labels=y_true,logits=y))"
      ],
      "execution_count": null,
      "outputs": []
    },
    {
      "cell_type": "code",
      "metadata": {
        "id": "zzP-8exPPNAP"
      },
      "source": [
        "# OPTIMIZER\n",
        "optimizer = tf.train.GradientDescentOptimizer(learning_rate=0.5)\n",
        "train = optimizer.minimize(cross_entropy)"
      ],
      "execution_count": null,
      "outputs": []
    },
    {
      "cell_type": "code",
      "metadata": {
        "id": "7oyhlKA2PRVp",
        "outputId": "0b1d43e9-7c40-4b48-e0ab-6f92dee547b8",
        "colab": {
          "base_uri": "https://localhost:8080/",
          "height": 34
        }
      },
      "source": [
        "# CREATE SESSION\n",
        "init = tf.global_variables_initializer()\n",
        "with tf.Session() as sess:\n",
        "    sess.run(init)\n",
        "    for step in range(1000):  \n",
        "      batch_x , batch_y = mnist.train.next_batch(100)\n",
        "      sess.run(train,feed_dict={x:batch_x,y_true:batch_y})\n",
        "    # EVALUATE THE MODEL\n",
        "    correct_prediction = tf.equal(tf.arg_max(y,1), tf.arg_max(y_true,1))\n",
        "    \n",
        "    #[True,False,True...] --> [1,0,1,...]\n",
        "    acc = tf.reduce_mean(tf.cast(correct_prediction,tf.float32))\n",
        "    \n",
        "    print('Accuracy:',sess.run(acc,feed_dict={x:mnist.test.images,y_true:mnist.test.labels}))"
      ],
      "execution_count": null,
      "outputs": [
        {
          "output_type": "stream",
          "text": [
            "Accuracy: 0.9134\n"
          ],
          "name": "stdout"
        }
      ]
    },
    {
      "cell_type": "code",
      "metadata": {
        "id": "lyiArs26To-T"
      },
      "source": [
        "\n"
      ],
      "execution_count": null,
      "outputs": []
    },
    {
      "cell_type": "code",
      "metadata": {
        "id": "_cWx39r6UX1R"
      },
      "source": [
        ""
      ],
      "execution_count": null,
      "outputs": []
    }
  ]
}